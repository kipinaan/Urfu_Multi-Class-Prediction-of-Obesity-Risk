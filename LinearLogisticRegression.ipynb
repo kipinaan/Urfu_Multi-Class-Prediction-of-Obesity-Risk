{
 "cells": [
  {
   "cell_type": "markdown",
   "metadata": {},
   "source": [
    "Импортируем нужные библиотеки:"
   ]
  },
  {
   "cell_type": "code",
   "execution_count": 26,
   "metadata": {},
   "outputs": [],
   "source": [
    "import numpy as np\n",
    "import pandas as pd\n",
    "from sklearn.metrics import precision_score, recall_score, f1_score"
   ]
  },
  {
   "cell_type": "markdown",
   "metadata": {},
   "source": [
    "Линейная регрессия:"
   ]
  },
  {
   "cell_type": "code",
   "execution_count": 27,
   "metadata": {},
   "outputs": [],
   "source": [
    "class LinearRegression:\n",
    "    def __init__(self):\n",
    "        # Инициализация параметров\n",
    "        self.coefficients_ = None\n",
    "        self.intercept_ = None\n",
    "\n",
    "    def fit(self, X, y):\n",
    "        # Метод обучения\n",
    "        # Добавляем интерсепт (единичный столбец) к X\n",
    "        X_b = np.c_[np.ones((X.shape[0], 1)), X]  # добавляем 1s для интерсепта\n",
    "        # Вычисляем коэффициенты с помощью формулы нормального уравнения\n",
    "        self.coefficients_ = np.linalg.inv(X_b.T.dot(X_b)).dot(X_b.T).dot(y)\n",
    "        self.intercept_ = self.coefficients_[0]\n",
    "        self.coefficients_ = self.coefficients_[1:]\n",
    "\n",
    "    def predict(self, X):\n",
    "        # Метод предсказания\n",
    "        return np.dot(X, self.coefficients_) + self.intercept_\n",
    "\n",
    "    def mean_squared_error(self, y_true, y_pred):\n",
    "        # Метод оценки метрики (среднеквадратичная ошибка)\n",
    "        return np.mean((y_true - y_pred) ** 2)\n",
    "\n",
    "    def r2_score(self, y_true, y_pred):\n",
    "        # Коэффициент детерминации R^2\n",
    "        ss_total = np.sum((y_true - np.mean(y_true)) ** 2)\n",
    "        ss_residual = np.sum((y_true - y_pred) ** 2)\n",
    "        return 1 - (ss_residual / ss_total)"
   ]
  },
  {
   "cell_type": "code",
   "execution_count": 28,
   "metadata": {},
   "outputs": [],
   "source": [
    "# Пример использования\n",
    "if __name__ == \"__main__\":\n",
    "    # Создаем примерный набор данных\n",
    "    data = {\n",
    "        'X': [1, 2, 3, 4, 5],\n",
    "        'y': [2, 3, 5, 4, 6]\n",
    "    }\n",
    "\n",
    "df = pd.DataFrame(data)\n",
    "X = df[['X']].values\n",
    "y = df['y'].values"
   ]
  },
  {
   "cell_type": "code",
   "execution_count": 29,
   "metadata": {},
   "outputs": [],
   "source": [
    "# Инициализируем и обучаем модель\n",
    "model = LinearRegression()\n",
    "model.fit(X, y)"
   ]
  },
  {
   "cell_type": "code",
   "execution_count": 30,
   "metadata": {},
   "outputs": [],
   "source": [
    "# Делаем предсказания\n",
    "predictions = model.predict(X)"
   ]
  },
  {
   "cell_type": "code",
   "execution_count": 31,
   "metadata": {},
   "outputs": [],
   "source": [
    "# Оцениваем модель\n",
    "mse = model.mean_squared_error(y, predictions)\n",
    "r2 = model.r2_score(y, predictions)"
   ]
  },
  {
   "cell_type": "code",
   "execution_count": 32,
   "metadata": {},
   "outputs": [
    {
     "name": "stdout",
     "output_type": "stream",
     "text": [
      "Коэффициенты: [0.9]\n",
      "Интерсепт: 1.3000000000000038\n",
      "Среднеквадратичная ошибка: 0.37999999999999995\n",
      "Коэффициент детерминации R^2: 0.81\n"
     ]
    }
   ],
   "source": [
    "print(f\"Коэффициенты: {model.coefficients_}\")\n",
    "print(f\"Интерсепт: {model.intercept_}\")\n",
    "print(f\"Среднеквадратичная ошибка: {mse}\")\n",
    "print(f\"Коэффициент детерминации R^2: {r2}\")"
   ]
  },
  {
   "cell_type": "markdown",
   "metadata": {},
   "source": [
    "Логистическая регрессия:"
   ]
  },
  {
   "cell_type": "code",
   "execution_count": 33,
   "metadata": {},
   "outputs": [],
   "source": [
    "class LogisticRegression:\n",
    "    def __init__(self, learning_rate=0.01, n_iterations=1000):\n",
    "        self.learning_rate = learning_rate\n",
    "        self.n_iterations = n_iterations\n",
    "        self.weights = None\n",
    "        self.bias = None\n",
    "\n",
    "    def _sigmoid(self, z):\n",
    "        return 1 / (1 + np.exp(-z))\n",
    "\n",
    "    def fit(self, X, y):\n",
    "        n_samples, n_features = X.shape\n",
    "        self.weights = np.zeros(n_features)\n",
    "        self.bias = 0\n",
    "        \n",
    "        # Gradient descent\n",
    "        for _ in range(self.n_iterations):\n",
    "            linear_model = np.dot(X, self.weights) + self.bias\n",
    "            y_predicted = self._sigmoid(linear_model)\n",
    "            \n",
    "            dw = (1 / n_samples) * np.dot(X.T, (y_predicted - y))\n",
    "            db = (1 / n_samples) * np.sum(y_predicted - y)\n",
    "            \n",
    "            self.weights -= self.learning_rate * dw\n",
    "            self.bias -= self.learning_rate * db\n",
    "\n",
    "    def predict(self, X):\n",
    "        linear_model = np.dot(X, self.weights) + self.bias\n",
    "        y_predicted = self._sigmoid(linear_model)\n",
    "        y_classes = [1 if i > 0.5 else 0 for i in y_predicted]\n",
    "        return np.array(y_classes)\n",
    "\n",
    "    def evaluate(self, y_true, y_pred):\n",
    "        precision = precision_score(y_true, y_pred)\n",
    "        recall = recall_score(y_true, y_pred)\n",
    "        f1 = f1_score(y_true, y_pred)\n",
    "        return {\n",
    "            'precision': precision,\n",
    "            'recall': recall,\n",
    "            'f1_score': f1\n",
    "        }"
   ]
  },
  {
   "cell_type": "code",
   "execution_count": 34,
   "metadata": {},
   "outputs": [],
   "source": [
    "# Пример использования:\n",
    "\n",
    "if __name__ == \"__main__\":\n",
    "    # Генерация простого набора данных для демонстрации\n",
    "    from sklearn.datasets import make_classification\n",
    "    from sklearn.model_selection import train_test_split\n",
    "\n",
    "X, y = make_classification(n_samples=1000, n_features=20, n_classes=2, random_state=42)\n",
    "X_train, X_test, y_train, y_test = train_test_split(X, y, test_size=0.2, random_state=42)"
   ]
  },
  {
   "cell_type": "code",
   "execution_count": 35,
   "metadata": {},
   "outputs": [],
   "source": [
    "model = LogisticRegression(learning_rate=0.01, n_iterations=1000)\n",
    "model.fit(X_train, y_train)\n",
    "predictions = model.predict(X_test)\n",
    "metrics = model.evaluate(y_test, predictions)"
   ]
  },
  {
   "cell_type": "code",
   "execution_count": 36,
   "metadata": {},
   "outputs": [
    {
     "name": "stdout",
     "output_type": "stream",
     "text": [
      "Precision: 0.9354838709677419\n",
      "Recall: 0.8130841121495327\n",
      "F1 Score: 0.87\n"
     ]
    }
   ],
   "source": [
    "print(\"Precision:\", metrics['precision'])\n",
    "print(\"Recall:\", metrics['recall'])\n",
    "print(\"F1 Score:\", metrics['f1_score'])"
   ]
  }
 ],
 "metadata": {
  "kernelspec": {
   "display_name": "Python 3",
   "language": "python",
   "name": "python3"
  },
  "language_info": {
   "codemirror_mode": {
    "name": "ipython",
    "version": 3
   },
   "file_extension": ".py",
   "mimetype": "text/x-python",
   "name": "python",
   "nbconvert_exporter": "python",
   "pygments_lexer": "ipython3",
   "version": "3.11.1"
  }
 },
 "nbformat": 4,
 "nbformat_minor": 2
}
